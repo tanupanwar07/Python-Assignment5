{
 "cells": [
  {
   "cell_type": "markdown",
   "id": "38f5657d",
   "metadata": {},
   "source": [
    "**1**. What does an empty dictionary's code look like?\n"
   ]
  },
  {
   "cell_type": "code",
   "execution_count": 4,
   "id": "a2a5b399",
   "metadata": {},
   "outputs": [],
   "source": [
    "dict={}"
   ]
  },
  {
   "cell_type": "code",
   "execution_count": null,
   "id": "9a0ab363",
   "metadata": {},
   "outputs": [],
   "source": []
  },
  {
   "cell_type": "markdown",
   "id": "efe57bcc",
   "metadata": {},
   "source": [
    "**2**.What is the value of a dictionary value with key 'foo' and value 42?"
   ]
  },
  {
   "cell_type": "code",
   "execution_count": 7,
   "id": "816fcc84",
   "metadata": {},
   "outputs": [],
   "source": [
    "dict1= {'foo':42}"
   ]
  },
  {
   "cell_type": "code",
   "execution_count": 44,
   "id": "b989f2e6",
   "metadata": {},
   "outputs": [
    {
     "data": {
      "text/plain": [
       "{'foo': 42}"
      ]
     },
     "execution_count": 44,
     "metadata": {},
     "output_type": "execute_result"
    }
   ],
   "source": [
    "dict1"
   ]
  },
  {
   "cell_type": "code",
   "execution_count": null,
   "id": "09204d4b",
   "metadata": {},
   "outputs": [],
   "source": []
  },
  {
   "cell_type": "markdown",
   "id": "142de81f",
   "metadata": {},
   "source": [
    "**3**. What is the most significant distinction between a dictionary and a list?"
   ]
  },
  {
   "cell_type": "markdown",
   "id": "6c1dd8f5",
   "metadata": {},
   "source": [
    "- A list is an ordered sequence of items while dictionaries are unordered sets.i.e; dictionary doesn't have index number whereas list has."
   ]
  },
  {
   "cell_type": "code",
   "execution_count": null,
   "id": "60a72dda",
   "metadata": {},
   "outputs": [],
   "source": []
  },
  {
   "cell_type": "markdown",
   "id": "4b219c0e",
   "metadata": {},
   "source": [
    "**4**.What happens if you try to access spam['foo'] if spam is {'bar':100}?"
   ]
  },
  {
   "cell_type": "markdown",
   "id": "77775ab2",
   "metadata": {},
   "source": [
    "- It will throw a *key error* since there is no key with name 'foo' in dictionary spam."
   ]
  },
  {
   "cell_type": "code",
   "execution_count": null,
   "id": "ebf56dca",
   "metadata": {},
   "outputs": [],
   "source": []
  },
  {
   "cell_type": "markdown",
   "id": "3196b5d8",
   "metadata": {},
   "source": [
    "**5**.If a dictionary is stored in spam, what is the difference between the expressions 'cat' in spam and 'cat' in spam.keys()?"
   ]
  },
  {
   "cell_type": "markdown",
   "id": "5162dda5",
   "metadata": {},
   "source": [
    "- There will be no difference.\n",
    "-  The 'in' operator in both the cases will check whether 'cat' is there as a key in dictionary \n",
    "spam and return result as True or False accordingly."
   ]
  },
  {
   "cell_type": "code",
   "execution_count": null,
   "id": "92418bd0",
   "metadata": {},
   "outputs": [],
   "source": []
  },
  {
   "cell_type": "markdown",
   "id": "aed51627",
   "metadata": {},
   "source": [
    "**6**.If a dictionary is stored in spam, what is the difference between the expressions 'cat' in spam and 'cat' in spam.values()?"
   ]
  },
  {
   "cell_type": "markdown",
   "id": "ca8f3245",
   "metadata": {},
   "source": [
    "- **'cat' in spam** will check if 'cat' exists as a *key* in dictionary spam.  \n",
    "-  **'cat' in spam.values()** will check whether 'cat' exists as a *value* in dictionary spam."
   ]
  },
  {
   "cell_type": "markdown",
   "id": "8c484dce",
   "metadata": {},
   "source": [
    "**7**.What is the shortcut of the following code?    \n",
    "\n",
    "      if 'color' not in spam:  \n",
    "      \n",
    "          spam['color']='black'"
   ]
  },
  {
   "cell_type": "code",
   "execution_count": 45,
   "id": "ea835b4a",
   "metadata": {},
   "outputs": [],
   "source": [
    "spam={'a':2,'b':4,'c':6,'d':7}"
   ]
  },
  {
   "cell_type": "code",
   "execution_count": 46,
   "id": "db361914",
   "metadata": {},
   "outputs": [],
   "source": [
    "spam['color']='black'    #shortcut for the given code"
   ]
  },
  {
   "cell_type": "code",
   "execution_count": 47,
   "id": "c1a3f830",
   "metadata": {},
   "outputs": [
    {
     "data": {
      "text/plain": [
       "{'a': 2, 'b': 4, 'c': 6, 'd': 7, 'color': 'black'}"
      ]
     },
     "execution_count": 47,
     "metadata": {},
     "output_type": "execute_result"
    }
   ],
   "source": [
    "spam"
   ]
  },
  {
   "cell_type": "code",
   "execution_count": null,
   "id": "16be3232",
   "metadata": {},
   "outputs": [],
   "source": []
  },
  {
   "cell_type": "markdown",
   "id": "89630b89",
   "metadata": {},
   "source": [
    "**8**.How do you 'pretty print' dictionary values using which module and function?"
   ]
  },
  {
   "cell_type": "markdown",
   "id": "69028a77",
   "metadata": {},
   "source": [
    "- using module **pprint**  and function **pprint()**"
   ]
  },
  {
   "cell_type": "code",
   "execution_count": 48,
   "id": "15304438",
   "metadata": {},
   "outputs": [
    {
     "name": "stdout",
     "output_type": "stream",
     "text": [
      "{'a': 2, 'b': 4, 'c': 6, 'color': 'black', 'd': 7}\n"
     ]
    }
   ],
   "source": [
    "#eg;\n",
    "from pprint import pprint\n",
    "pprint(spam)"
   ]
  },
  {
   "cell_type": "code",
   "execution_count": null,
   "id": "3621d57a",
   "metadata": {},
   "outputs": [],
   "source": []
  },
  {
   "cell_type": "code",
   "execution_count": null,
   "id": "4756d67a",
   "metadata": {},
   "outputs": [],
   "source": []
  }
 ],
 "metadata": {
  "kernelspec": {
   "display_name": "Python 3 (ipykernel)",
   "language": "python",
   "name": "python3"
  },
  "language_info": {
   "codemirror_mode": {
    "name": "ipython",
    "version": 3
   },
   "file_extension": ".py",
   "mimetype": "text/x-python",
   "name": "python",
   "nbconvert_exporter": "python",
   "pygments_lexer": "ipython3",
   "version": "3.9.12"
  }
 },
 "nbformat": 4,
 "nbformat_minor": 5
}
